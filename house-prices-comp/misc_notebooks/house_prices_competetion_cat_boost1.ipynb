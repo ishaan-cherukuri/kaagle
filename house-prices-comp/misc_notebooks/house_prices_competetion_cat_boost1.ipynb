{
 "cells": [
  {
   "cell_type": "code",
   "execution_count": 1,
   "id": "4830626b",
   "metadata": {},
   "outputs": [],
   "source": [
    "import pandas as pd\n",
    "import numpy as np\n",
    "import matplotlib.pyplot as plt\n",
    "import seaborn as sns\n",
    "import folium\n",
    "from folium.plugins import HeatMap\n",
    "from sklearn.model_selection import train_test_split\n",
    "from sklearn.linear_model import LinearRegression\n",
    "from sklearn.ensemble import RandomForestRegressor, GradientBoostingRegressor\n",
    "from sklearn.metrics import mean_squared_error, r2_score\n",
    "from sklearn.preprocessing import StandardScaler\n",
    "from statsmodels.stats.outliers_influence import variance_inflation_factor\n",
    "import warnings\n",
    "warnings.filterwarnings('ignore')\n",
    "%matplotlib inline"
   ]
  },
  {
   "cell_type": "code",
   "execution_count": 47,
   "id": "6b60fcba",
   "metadata": {},
   "outputs": [],
   "source": [
    "def clean(df):\n",
    "    global cat_cols, numberical_cols\n",
    "        \n",
    "    # Replace common string 'na' values in numerical columns with actual np.nan\n",
    "    for col in numerical_cols:\n",
    "        df[col] = df[col].replace(['NA', 'N/A', 'na', 'n/a', 'NaN', 'nan', 'None', 'none', ''], np.nan)\n",
    "\n",
    "        df[col] = pd.to_numeric(df[col], errors='coerce')\n",
    "    \n",
    "    # Convert Na Values in numerical_cols to the median of the column\n",
    "    for col in numerical_cols:\n",
    "        if col in df.columns:\n",
    "            df[col] = pd.to_numeric(df[col], errors='coerce')\n",
    "\n",
    "            median_val = df[col].median()\n",
    "            df[col] = df[col].fillna(median_val)\n",
    "    \n",
    "    # Convert categorical columns to dtype \"category\"\n",
    "    for col in cat_cols:\n",
    "        if col in df.columns:\n",
    "            df[col] = df[col].astype('category')\n",
    "            df[col] = df[col].astype(str).fillna(\"missing\")\n",
    "    return df"
   ]
  },
  {
   "cell_type": "code",
   "execution_count": 48,
   "id": "850b6fd2",
   "metadata": {},
   "outputs": [],
   "source": [
    "cat_cols = \"\"\"\n",
    "MSSubClass\n",
    "MSZoning\n",
    "Street\n",
    "Alley\n",
    "LotShape\n",
    "LandContour\n",
    "Utilities\n",
    "LotConfig\n",
    "LandSlope\n",
    "Neighborhood\n",
    "Condition1 \n",
    "Condition2\n",
    "BldgType\n",
    "HouseStyle\n",
    "OverallQual\n",
    "OverallCond\n",
    "RoofStyle\n",
    "RoofMatl\n",
    "Exterior1st\n",
    "Exterior2nd\n",
    "MasVnrType\n",
    "ExterQual\n",
    "ExterCond\n",
    "Foundation\n",
    "BsmtQual\n",
    "BsmtCond\n",
    "BsmtExposure\n",
    "BsmtFinType1\n",
    "BsmtFinType2\n",
    "Heating\n",
    "HeatingQC\n",
    "CentralAir\n",
    "Electrical\n",
    "KitchenQual\n",
    "Functional\n",
    "FireplaceQu\n",
    "GarageType\n",
    "GarageFinish\n",
    "GarageQual\n",
    "GarageCond\n",
    "PavedDrive\n",
    "PoolQC\n",
    "Fence\n",
    "MiscFeature\n",
    "MiscVal\n",
    "SaleType\n",
    "SaleCondition\n",
    "\"\"\".split()"
   ]
  },
  {
   "cell_type": "code",
   "execution_count": 49,
   "id": "43b7376b",
   "metadata": {},
   "outputs": [],
   "source": [
    "# Load Not cleaned Training and Testing Data Frames\n",
    "\n",
    "df = (pd.read_csv(\"data/train.csv\", keep_default_na=False))\n",
    "df_test = (pd.read_csv(\"data/test.csv\", keep_default_na=False))\n",
    "\n",
    "final_df = df_test[[\"Id\"]]"
   ]
  },
  {
   "cell_type": "code",
   "execution_count": 50,
   "id": "d1a32214",
   "metadata": {},
   "outputs": [],
   "source": [
    "numerical_cols = [col for col in df_test.columns if col not in cat_cols]"
   ]
  },
  {
   "cell_type": "code",
   "execution_count": 51,
   "id": "0277378f",
   "metadata": {},
   "outputs": [],
   "source": [
    "df = clean(df)\n",
    "df_test = clean(df_test)"
   ]
  },
  {
   "cell_type": "code",
   "execution_count": 52,
   "id": "d28d159d",
   "metadata": {},
   "outputs": [],
   "source": [
    "X = df.drop([\"Id\", \"SalePrice\"], axis=1)\n",
    "y = df[\"SalePrice\"]"
   ]
  },
  {
   "cell_type": "code",
   "execution_count": 64,
   "id": "71ce81a9",
   "metadata": {},
   "outputs": [],
   "source": [
    "df_test.drop(\"Id\", axis=1, inplace=True)"
   ]
  },
  {
   "cell_type": "code",
   "execution_count": 53,
   "id": "461d6143",
   "metadata": {},
   "outputs": [
    {
     "name": "stdout",
     "output_type": "stream",
     "text": [
      "0:\tlearn: 74869.1893709\ttest: 85731.1692489\tbest: 85731.1692489 (0)\ttotal: 8.83ms\tremaining: 8.82s\n",
      "100:\tlearn: 20848.9693577\ttest: 29793.6818527\tbest: 29793.6818527 (100)\ttotal: 577ms\tremaining: 5.14s\n",
      "200:\tlearn: 16603.6823587\ttest: 27303.6101971\tbest: 27303.6101971 (200)\ttotal: 1.17s\tremaining: 4.63s\n",
      "300:\tlearn: 13982.9674562\ttest: 26550.5261468\tbest: 26550.3671621 (299)\ttotal: 1.8s\tremaining: 4.19s\n",
      "400:\tlearn: 12128.7179000\ttest: 26278.3355023\tbest: 26278.3355023 (400)\ttotal: 2.47s\tremaining: 3.69s\n",
      "Stopped by overfitting detector  (50 iterations wait)\n",
      "\n",
      "bestTest = 26201.16552\n",
      "bestIteration = 440\n",
      "\n",
      "Shrink model to first 441 iterations.\n",
      "\n",
      "Test RMSE: 0.14\n",
      "Test R²: 0.9105\n"
     ]
    }
   ],
   "source": [
    "from catboost import CatBoostRegressor, Pool\n",
    "from sklearn.model_selection import train_test_split\n",
    "from sklearn.metrics import mean_squared_error, r2_score, mean_squared_log_error\n",
    "\n",
    "# Step 1: Split the data\n",
    "X_train, X_test, y_train, y_test = train_test_split(X, y, test_size=0.2, random_state=42)\n",
    "\n",
    "# Step 2: Create CatBoost Pool (efficient way to handle categorical data)\n",
    "train_pool = Pool(X_train, y_train, cat_features=cat_cols)\n",
    "test_pool = Pool(X_test, y_test, cat_features=cat_cols)\n",
    "\n",
    "# Step 3: Initialize and train CatBoostRegressor\n",
    "model = CatBoostRegressor(\n",
    "    iterations=1000,\n",
    "    learning_rate=0.05,\n",
    "    depth=6,\n",
    "    loss_function='RMSE',\n",
    "    eval_metric='RMSE',\n",
    "    cat_features=cat_cols,\n",
    "    verbose=100,\n",
    "    early_stopping_rounds=50\n",
    ")\n",
    "\n",
    "model.fit(train_pool, eval_set=test_pool)\n",
    "\n",
    "# Step 4: Evaluate\n",
    "y_pred = model.predict(X_test)\n",
    "rmse = np.sqrt(mean_squared_log_error(y_test, y_pred))\n",
    "r2 = r2_score(y_test, y_pred)\n",
    "\n",
    "print(f\"\\nTest RMSE: {rmse:.2f}\")\n",
    "print(f\"Test R²: {r2:.4f}\")\n"
   ]
  },
  {
   "cell_type": "code",
   "execution_count": 54,
   "id": "b5242ac8",
   "metadata": {},
   "outputs": [
    {
     "name": "stdout",
     "output_type": "stream",
     "text": [
      "0:\tlearn: 76988.4712201\ttotal: 11.9ms\tremaining: 11.9s\n",
      "100:\tlearn: 21435.8041434\ttotal: 570ms\tremaining: 5.07s\n",
      "200:\tlearn: 17058.5484466\ttotal: 1.13s\tremaining: 4.5s\n",
      "300:\tlearn: 15080.1716663\ttotal: 1.7s\tremaining: 3.95s\n",
      "400:\tlearn: 13429.0259707\ttotal: 2.29s\tremaining: 3.42s\n",
      "500:\tlearn: 12195.1291931\ttotal: 2.96s\tremaining: 2.95s\n",
      "600:\tlearn: 11167.7822228\ttotal: 3.57s\tremaining: 2.37s\n",
      "700:\tlearn: 10170.2804623\ttotal: 4.14s\tremaining: 1.77s\n",
      "800:\tlearn: 9362.8669947\ttotal: 4.73s\tremaining: 1.17s\n",
      "900:\tlearn: 8618.3619262\ttotal: 5.32s\tremaining: 584ms\n",
      "999:\tlearn: 7965.0304011\ttotal: 5.89s\tremaining: 0us\n",
      "\n",
      "Test RMSE: 0.07\n",
      "Test R²: 0.9853\n"
     ]
    }
   ],
   "source": [
    "# fit model on entitre training data\n",
    "\n",
    "train_pool = Pool(X, y, cat_features=cat_cols)\n",
    "\n",
    "# Step 3: Initialize and train CatBoostRegressor\n",
    "model = CatBoostRegressor(\n",
    "    iterations=1000,\n",
    "    learning_rate=0.05,\n",
    "    depth=6,\n",
    "    loss_function='RMSE',\n",
    "    eval_metric='RMSE',\n",
    "    cat_features=cat_cols,\n",
    "    verbose=100,\n",
    "    early_stopping_rounds=50\n",
    ")\n",
    "\n",
    "model.fit(train_pool)\n",
    "\n",
    "# Step 4: Evaluate\n",
    "y_pred = model.predict(X_test)\n",
    "rmse = np.sqrt(mean_squared_log_error(y_test, y_pred))\n",
    "r2 = r2_score(y_test, y_pred)\n",
    "\n",
    "print(f\"\\nTest RMSE: {rmse:.2f}\")\n",
    "print(f\"Test R²: {r2:.4f}\")"
   ]
  },
  {
   "cell_type": "code",
   "execution_count": 65,
   "id": "6da0b480",
   "metadata": {},
   "outputs": [],
   "source": [
    "y_test = model.predict(df_test)"
   ]
  },
  {
   "cell_type": "code",
   "execution_count": 66,
   "id": "3abbd8ff",
   "metadata": {},
   "outputs": [],
   "source": [
    "final_df[\"SalePrice\"] = y_test"
   ]
  },
  {
   "cell_type": "code",
   "execution_count": 73,
   "id": "8d8be528",
   "metadata": {},
   "outputs": [],
   "source": [
    "final_df.to_csv(\"final_submission.csv\", index=False)"
   ]
  },
  {
   "cell_type": "code",
   "execution_count": 74,
   "id": "d0a42a2d",
   "metadata": {},
   "outputs": [
    {
     "data": {
      "text/html": [
       "<div>\n",
       "<style scoped>\n",
       "    .dataframe tbody tr th:only-of-type {\n",
       "        vertical-align: middle;\n",
       "    }\n",
       "\n",
       "    .dataframe tbody tr th {\n",
       "        vertical-align: top;\n",
       "    }\n",
       "\n",
       "    .dataframe thead th {\n",
       "        text-align: right;\n",
       "    }\n",
       "</style>\n",
       "<table border=\"1\" class=\"dataframe\">\n",
       "  <thead>\n",
       "    <tr style=\"text-align: right;\">\n",
       "      <th></th>\n",
       "      <th>Id</th>\n",
       "      <th>SalePrice</th>\n",
       "    </tr>\n",
       "  </thead>\n",
       "  <tbody>\n",
       "    <tr>\n",
       "      <th>0</th>\n",
       "      <td>1461</td>\n",
       "      <td>121402.176783</td>\n",
       "    </tr>\n",
       "    <tr>\n",
       "      <th>1</th>\n",
       "      <td>1462</td>\n",
       "      <td>170220.415029</td>\n",
       "    </tr>\n",
       "    <tr>\n",
       "      <th>2</th>\n",
       "      <td>1463</td>\n",
       "      <td>185175.387094</td>\n",
       "    </tr>\n",
       "    <tr>\n",
       "      <th>3</th>\n",
       "      <td>1464</td>\n",
       "      <td>194510.988379</td>\n",
       "    </tr>\n",
       "    <tr>\n",
       "      <th>4</th>\n",
       "      <td>1465</td>\n",
       "      <td>185341.180459</td>\n",
       "    </tr>\n",
       "    <tr>\n",
       "      <th>...</th>\n",
       "      <td>...</td>\n",
       "      <td>...</td>\n",
       "    </tr>\n",
       "    <tr>\n",
       "      <th>1454</th>\n",
       "      <td>2915</td>\n",
       "      <td>78725.237347</td>\n",
       "    </tr>\n",
       "    <tr>\n",
       "      <th>1455</th>\n",
       "      <td>2916</td>\n",
       "      <td>82270.954017</td>\n",
       "    </tr>\n",
       "    <tr>\n",
       "      <th>1456</th>\n",
       "      <td>2917</td>\n",
       "      <td>167172.920472</td>\n",
       "    </tr>\n",
       "    <tr>\n",
       "      <th>1457</th>\n",
       "      <td>2918</td>\n",
       "      <td>118114.048921</td>\n",
       "    </tr>\n",
       "    <tr>\n",
       "      <th>1458</th>\n",
       "      <td>2919</td>\n",
       "      <td>219019.248976</td>\n",
       "    </tr>\n",
       "  </tbody>\n",
       "</table>\n",
       "<p>1459 rows × 2 columns</p>\n",
       "</div>"
      ],
      "text/plain": [
       "        Id      SalePrice\n",
       "0     1461  121402.176783\n",
       "1     1462  170220.415029\n",
       "2     1463  185175.387094\n",
       "3     1464  194510.988379\n",
       "4     1465  185341.180459\n",
       "...    ...            ...\n",
       "1454  2915   78725.237347\n",
       "1455  2916   82270.954017\n",
       "1456  2917  167172.920472\n",
       "1457  2918  118114.048921\n",
       "1458  2919  219019.248976\n",
       "\n",
       "[1459 rows x 2 columns]"
      ]
     },
     "execution_count": 74,
     "metadata": {},
     "output_type": "execute_result"
    }
   ],
   "source": [
    "final_df"
   ]
  },
  {
   "cell_type": "code",
   "execution_count": null,
   "id": "fdedb2f8",
   "metadata": {},
   "outputs": [],
   "source": []
  }
 ],
 "metadata": {
  "kernelspec": {
   "display_name": "Python 3 (ipykernel)",
   "language": "python",
   "name": "python3"
  },
  "language_info": {
   "codemirror_mode": {
    "name": "ipython",
    "version": 3
   },
   "file_extension": ".py",
   "mimetype": "text/x-python",
   "name": "python",
   "nbconvert_exporter": "python",
   "pygments_lexer": "ipython3",
   "version": "3.12.9"
  }
 },
 "nbformat": 4,
 "nbformat_minor": 5
}
